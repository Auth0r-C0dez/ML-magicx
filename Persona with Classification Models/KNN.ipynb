{
 "cells": [
  {
   "cell_type": "code",
   "execution_count": 1,
   "id": "b5732c10-fe0d-4893-b37b-0cc547e5b452",
   "metadata": {},
   "outputs": [
    {
     "data": {
      "text/html": [
       "<div>\n",
       "<style scoped>\n",
       "    .dataframe tbody tr th:only-of-type {\n",
       "        vertical-align: middle;\n",
       "    }\n",
       "\n",
       "    .dataframe tbody tr th {\n",
       "        vertical-align: top;\n",
       "    }\n",
       "\n",
       "    .dataframe thead th {\n",
       "        text-align: right;\n",
       "    }\n",
       "</style>\n",
       "<table border=\"1\" class=\"dataframe\">\n",
       "  <thead>\n",
       "    <tr style=\"text-align: right;\">\n",
       "      <th></th>\n",
       "      <th>ID</th>\n",
       "      <th>Sex</th>\n",
       "      <th>Bachelor</th>\n",
       "      <th>Age</th>\n",
       "      <th>Graduated</th>\n",
       "      <th>Career</th>\n",
       "      <th>Work Experience</th>\n",
       "      <th>Family Expenses</th>\n",
       "      <th>Family  Size</th>\n",
       "      <th>Variable</th>\n",
       "      <th>Segmentation</th>\n",
       "      <th>Description</th>\n",
       "    </tr>\n",
       "  </thead>\n",
       "  <tbody>\n",
       "    <tr>\n",
       "      <th>0</th>\n",
       "      <td>1462220581</td>\n",
       "      <td>Male</td>\n",
       "      <td>No</td>\n",
       "      <td>41.0</td>\n",
       "      <td>Yes</td>\n",
       "      <td>Fashion Designer</td>\n",
       "      <td>2.0</td>\n",
       "      <td>Low</td>\n",
       "      <td>3</td>\n",
       "      <td>Dog_6</td>\n",
       "      <td>Akshat</td>\n",
       "      <td>The specimen is reliable and experienced.</td>\n",
       "    </tr>\n",
       "    <tr>\n",
       "      <th>1</th>\n",
       "      <td>1462220232</td>\n",
       "      <td>Female</td>\n",
       "      <td>Yes</td>\n",
       "      <td>38.0</td>\n",
       "      <td>Yes</td>\n",
       "      <td>HR</td>\n",
       "      <td>0.0</td>\n",
       "      <td>Average</td>\n",
       "      <td>2</td>\n",
       "      <td>Dog_6</td>\n",
       "      <td>Akshat</td>\n",
       "      <td>The specimen is reliable and experienced.</td>\n",
       "    </tr>\n",
       "    <tr>\n",
       "      <th>2</th>\n",
       "      <td>1462226544</td>\n",
       "      <td>Male</td>\n",
       "      <td>Yes</td>\n",
       "      <td>41.0</td>\n",
       "      <td>Yes</td>\n",
       "      <td>Fashion Designer</td>\n",
       "      <td>0.0</td>\n",
       "      <td>High</td>\n",
       "      <td>5</td>\n",
       "      <td>Dog_6</td>\n",
       "      <td>Bhavesh</td>\n",
       "      <td>The specimen is reliable and experienced.</td>\n",
       "    </tr>\n",
       "    <tr>\n",
       "      <th>3</th>\n",
       "      <td>1462224171</td>\n",
       "      <td>Male</td>\n",
       "      <td>No</td>\n",
       "      <td>21.0</td>\n",
       "      <td>No</td>\n",
       "      <td>Doctor</td>\n",
       "      <td>0.0</td>\n",
       "      <td>Low</td>\n",
       "      <td>4</td>\n",
       "      <td>Dog_6</td>\n",
       "      <td>Darsh</td>\n",
       "      <td>The specimen is responsible and hardworking.</td>\n",
       "    </tr>\n",
       "    <tr>\n",
       "      <th>4</th>\n",
       "      <td>1462226427</td>\n",
       "      <td>Female</td>\n",
       "      <td>No</td>\n",
       "      <td>37.0</td>\n",
       "      <td>Yes</td>\n",
       "      <td>Fashion Designer</td>\n",
       "      <td>0.0</td>\n",
       "      <td>Low</td>\n",
       "      <td>1</td>\n",
       "      <td>Dog_2</td>\n",
       "      <td>Bhavesh</td>\n",
       "      <td>The specimen is reliable and experienced.</td>\n",
       "    </tr>\n",
       "  </tbody>\n",
       "</table>\n",
       "</div>"
      ],
      "text/plain": [
       "           ID     Sex Bachelor   Age Graduated            Career  \\\n",
       "0  1462220581    Male       No  41.0       Yes  Fashion Designer   \n",
       "1  1462220232  Female      Yes  38.0       Yes                HR   \n",
       "2  1462226544    Male      Yes  41.0       Yes  Fashion Designer   \n",
       "3  1462224171    Male       No  21.0        No            Doctor   \n",
       "4  1462226427  Female       No  37.0       Yes  Fashion Designer   \n",
       "\n",
       "   Work Experience Family Expenses Family  Size Variable Segmentation  \\\n",
       "0              2.0             Low            3    Dog_6       Akshat   \n",
       "1              0.0         Average            2    Dog_6       Akshat   \n",
       "2              0.0            High            5    Dog_6      Bhavesh   \n",
       "3              0.0             Low            4    Dog_6        Darsh   \n",
       "4              0.0             Low            1    Dog_2      Bhavesh   \n",
       "\n",
       "                                    Description  \n",
       "0     The specimen is reliable and experienced.  \n",
       "1     The specimen is reliable and experienced.  \n",
       "2     The specimen is reliable and experienced.  \n",
       "3  The specimen is responsible and hardworking.  \n",
       "4     The specimen is reliable and experienced.  "
      ]
     },
     "execution_count": 1,
     "metadata": {},
     "output_type": "execute_result"
    }
   ],
   "source": [
    "import pandas as pd\n",
    "import numpy as np \n",
    "import matplotlib.pyplot as plt\n",
    "df = pd.read_csv(\"training-set.csv\")\n",
    "df.head()"
   ]
  },
  {
   "cell_type": "code",
   "execution_count": 2,
   "id": "a3053b4e-71e0-49af-a791-d7ccbcbcbf96",
   "metadata": {},
   "outputs": [],
   "source": [
    "from sklearn.model_selection import train_test_split"
   ]
  },
  {
   "cell_type": "code",
   "execution_count": null,
   "id": "2422e59a-45b3-4227-ad8c-589e2a034598",
   "metadata": {},
   "outputs": [],
   "source": []
  },
  {
   "cell_type": "code",
   "execution_count": 2,
   "id": "14690df9-237e-4cb3-8f0e-08ab47e9dc40",
   "metadata": {},
   "outputs": [],
   "source": [
    "x = df.drop(\"Segmentation\",axis = 1)\n",
    "x = df.drop(\"ID\",axis = 1)\n",
    "y = df[\"Segmentation\"]\n",
    "#y = df[\"ID\"]"
   ]
  },
  {
   "cell_type": "code",
   "execution_count": 3,
   "id": "ecc35273-db30-4b1f-9d86-dba40d8773e3",
   "metadata": {},
   "outputs": [
    {
     "data": {
      "text/plain": [
       "array([['Male', 'No', 'Yes', ..., 'Dog_6', 41.0, 2.0],\n",
       "       ['Female', 'Yes', 'Yes', ..., 'Dog_6', 38.0, 0.0],\n",
       "       ['Male', 'Yes', 'Yes', ..., 'Dog_6', 41.0, 0.0],\n",
       "       ...,\n",
       "       ['Male', 'Yes', 'Yes', ..., 'Dog_6', 42.0, 9.0],\n",
       "       ['Female', 'Yes', 'Yes', ..., 'Dog_6', 27.0, 2.646629877808435],\n",
       "       ['Female', 'Yes', 'Yes', ..., 'Dog_6', 56.0, 0.0]], dtype=object)"
      ]
     },
     "execution_count": 3,
     "metadata": {},
     "output_type": "execute_result"
    }
   ],
   "source": [
    "#Filling the missing values using the scikit learn\n",
    "from sklearn.impute import SimpleImputer\n",
    "from sklearn.compose import ColumnTransformer\n",
    "\n",
    "#filling the categorical values with missing and numerical values with mean\n",
    "cat_imputer =SimpleImputer(strategy=\"constant\",fill_value=\"missing\")\n",
    "#door_imputer = SimpleImputer(strategy=\"constant\",fill_value=4)\n",
    "num_imputer = SimpleImputer(strategy=\"mean\")\n",
    "\n",
    "#defining columns\n",
    "cat_features = [\"Sex\",\"Bachelor\",\"Graduated\",\"Career\",\"Family Expenses\",\"Family  Size\",\"Variable\"]\n",
    "\n",
    "num_features=[\"Age\",\"Work Experience\"]\n",
    "\n",
    "#Creating an imputer (something that fills the data)\n",
    "imputer = ColumnTransformer([\n",
    "    (\"cat_imputer\" ,cat_imputer,cat_features),\n",
    "    \n",
    "    (\"num_imputer\",num_imputer,num_features)  ])\n",
    "\n",
    "#Fill train and test data separately\n",
    "filled_X = imputer.fit_transform(x)\n",
    "#filled_X_test = imputer.transform(x_test)\n",
    "\n",
    "#check filled x_train\n",
    "filled_X\n"
   ]
  },
  {
   "cell_type": "code",
   "execution_count": 4,
   "id": "58219165-b7d0-4e91-8627-7346870ceae7",
   "metadata": {},
   "outputs": [
    {
     "data": {
      "text/plain": [
       "Sex                0\n",
       "Bachelor           0\n",
       "Graduated          0\n",
       "Career             0\n",
       "Family Expenses    0\n",
       "Family  Size       0\n",
       "Variable           0\n",
       "Age                0\n",
       "Work Experience    0\n",
       "dtype: int64"
      ]
     },
     "execution_count": 4,
     "metadata": {},
     "output_type": "execute_result"
    }
   ],
   "source": [
    "df_filled_train = pd.DataFrame(filled_X,\n",
    "                                      columns=[\"Sex\",\"Bachelor\",\"Graduated\",\"Career\",\"Family Expenses\",\"Family  Size\",\"Variable\",\"Age\",\"Work Experience\"])\n",
    "\n",
    "#df_filled_test = pd.DataFrame(filled_X_test,\n",
    "                                     #columns=[\"Sex\",\"Bachelor\",\"Graduated\",\"Career\",\"Family Expenses\",\"Family  Size\",\"Variable\",\"Age\",\"Work Experience\"])\n",
    "df_filled_train.isna().sum()"
   ]
  },
  {
   "cell_type": "code",
   "execution_count": 5,
   "id": "c95a8525-a664-4cae-b31c-ca8d4ba6a36f",
   "metadata": {},
   "outputs": [
    {
     "data": {
      "text/plain": [
       "array([[ 0.        ,  1.        ,  0.        , ...,  0.        ,\n",
       "        41.        ,  2.        ],\n",
       "       [ 1.        ,  0.        ,  0.        , ...,  0.        ,\n",
       "        38.        ,  0.        ],\n",
       "       [ 0.        ,  1.        ,  0.        , ...,  0.        ,\n",
       "        41.        ,  0.        ],\n",
       "       ...,\n",
       "       [ 0.        ,  1.        ,  0.        , ...,  0.        ,\n",
       "        42.        ,  9.        ],\n",
       "       [ 1.        ,  0.        ,  0.        , ...,  0.        ,\n",
       "        27.        ,  2.64662988],\n",
       "       [ 1.        ,  0.        ,  0.        , ...,  0.        ,\n",
       "        56.        ,  0.        ]])"
      ]
     },
     "execution_count": 5,
     "metadata": {},
     "output_type": "execute_result"
    }
   ],
   "source": [
    "from sklearn.preprocessing import OneHotEncoder\n",
    "categorical_features=[\"Sex\",\"Bachelor\",\"Graduated\",\"Career\",\"Family Expenses\",\"Family  Size\",\"Variable\"]\n",
    "one_hot = OneHotEncoder()\n",
    "transformer = ColumnTransformer([(\"one_hot\",\n",
    "                                  one_hot,\n",
    "                                  categorical_features)],\n",
    "                                remainder=\"passthrough\")\n",
    "\n",
    "#fill train and test values separately\n",
    "transformed_X_train= transformer.fit_transform(df_filled_train)\n",
    "#transformed_X_test = transformer.transform(df_filled_test)\n",
    "\n",
    "#checkig transformed and filled values\n",
    "transformed_X_train.toarray()"
   ]
  },
  {
   "cell_type": "code",
   "execution_count": 6,
   "id": "b71ec830-8730-4b9a-93c5-32f7f8d2056c",
   "metadata": {},
   "outputs": [
    {
     "name": "stdout",
     "output_type": "stream",
     "text": [
      "Encoded y_train:\n",
      "[[1. 0. 0. 0.]\n",
      " [1. 0. 0. 0.]\n",
      " [0. 1. 0. 0.]\n",
      " ...\n",
      " [1. 0. 0. 0.]\n",
      " [0. 0. 0. 1.]\n",
      " [0. 1. 0. 0.]]\n"
     ]
    }
   ],
   "source": [
    "from sklearn.preprocessing import OneHotEncoder\n",
    "\n",
    "# Example y_train and y_test data\n",
    "\n",
    "# Initialize OneHotEncoder\n",
    "encoder = OneHotEncoder(sparse_output=False)\n",
    "\n",
    "# Fit the encoder on y_train and transform both y_train and y_test\n",
    "transformed_y = encoder.fit_transform([[label] for label in y])\n",
    "#transformed_y_test = encoder.transform([[label] for label in y_test])\n",
    "\n",
    "print(\"Encoded y_train:\")\n",
    "print(transformed_y)\n",
    "\n",
    "#print(\"Encoded y_test:\")\n",
    "#print(transformed_y_test)\n"
   ]
  },
  {
   "cell_type": "code",
   "execution_count": 55,
   "id": "11a3c8fe-f1d7-4dd7-8930-246e0b44e881",
   "metadata": {},
   "outputs": [
    {
     "data": {
      "text/html": [
       "<style>#sk-container-id-2 {color: black;}#sk-container-id-2 pre{padding: 0;}#sk-container-id-2 div.sk-toggleable {background-color: white;}#sk-container-id-2 label.sk-toggleable__label {cursor: pointer;display: block;width: 100%;margin-bottom: 0;padding: 0.3em;box-sizing: border-box;text-align: center;}#sk-container-id-2 label.sk-toggleable__label-arrow:before {content: \"▸\";float: left;margin-right: 0.25em;color: #696969;}#sk-container-id-2 label.sk-toggleable__label-arrow:hover:before {color: black;}#sk-container-id-2 div.sk-estimator:hover label.sk-toggleable__label-arrow:before {color: black;}#sk-container-id-2 div.sk-toggleable__content {max-height: 0;max-width: 0;overflow: hidden;text-align: left;background-color: #f0f8ff;}#sk-container-id-2 div.sk-toggleable__content pre {margin: 0.2em;color: black;border-radius: 0.25em;background-color: #f0f8ff;}#sk-container-id-2 input.sk-toggleable__control:checked~div.sk-toggleable__content {max-height: 200px;max-width: 100%;overflow: auto;}#sk-container-id-2 input.sk-toggleable__control:checked~label.sk-toggleable__label-arrow:before {content: \"▾\";}#sk-container-id-2 div.sk-estimator input.sk-toggleable__control:checked~label.sk-toggleable__label {background-color: #d4ebff;}#sk-container-id-2 div.sk-label input.sk-toggleable__control:checked~label.sk-toggleable__label {background-color: #d4ebff;}#sk-container-id-2 input.sk-hidden--visually {border: 0;clip: rect(1px 1px 1px 1px);clip: rect(1px, 1px, 1px, 1px);height: 1px;margin: -1px;overflow: hidden;padding: 0;position: absolute;width: 1px;}#sk-container-id-2 div.sk-estimator {font-family: monospace;background-color: #f0f8ff;border: 1px dotted black;border-radius: 0.25em;box-sizing: border-box;margin-bottom: 0.5em;}#sk-container-id-2 div.sk-estimator:hover {background-color: #d4ebff;}#sk-container-id-2 div.sk-parallel-item::after {content: \"\";width: 100%;border-bottom: 1px solid gray;flex-grow: 1;}#sk-container-id-2 div.sk-label:hover label.sk-toggleable__label {background-color: #d4ebff;}#sk-container-id-2 div.sk-serial::before {content: \"\";position: absolute;border-left: 1px solid gray;box-sizing: border-box;top: 0;bottom: 0;left: 50%;z-index: 0;}#sk-container-id-2 div.sk-serial {display: flex;flex-direction: column;align-items: center;background-color: white;padding-right: 0.2em;padding-left: 0.2em;position: relative;}#sk-container-id-2 div.sk-item {position: relative;z-index: 1;}#sk-container-id-2 div.sk-parallel {display: flex;align-items: stretch;justify-content: center;background-color: white;position: relative;}#sk-container-id-2 div.sk-item::before, #sk-container-id-2 div.sk-parallel-item::before {content: \"\";position: absolute;border-left: 1px solid gray;box-sizing: border-box;top: 0;bottom: 0;left: 50%;z-index: -1;}#sk-container-id-2 div.sk-parallel-item {display: flex;flex-direction: column;z-index: 1;position: relative;background-color: white;}#sk-container-id-2 div.sk-parallel-item:first-child::after {align-self: flex-end;width: 50%;}#sk-container-id-2 div.sk-parallel-item:last-child::after {align-self: flex-start;width: 50%;}#sk-container-id-2 div.sk-parallel-item:only-child::after {width: 0;}#sk-container-id-2 div.sk-dashed-wrapped {border: 1px dashed gray;margin: 0 0.4em 0.5em 0.4em;box-sizing: border-box;padding-bottom: 0.4em;background-color: white;}#sk-container-id-2 div.sk-label label {font-family: monospace;font-weight: bold;display: inline-block;line-height: 1.2em;}#sk-container-id-2 div.sk-label-container {text-align: center;}#sk-container-id-2 div.sk-container {/* jupyter's `normalize.less` sets `[hidden] { display: none; }` but bootstrap.min.css set `[hidden] { display: none !important; }` so we also need the `!important` here to be able to override the default hidden behavior on the sphinx rendered scikit-learn.org. See: https://github.com/scikit-learn/scikit-learn/issues/21755 */display: inline-block !important;position: relative;}#sk-container-id-2 div.sk-text-repr-fallback {display: none;}</style><div id=\"sk-container-id-2\" class=\"sk-top-container\"><div class=\"sk-text-repr-fallback\"><pre>RandomForestClassifier(n_estimators=1000)</pre><b>In a Jupyter environment, please rerun this cell to show the HTML representation or trust the notebook. <br />On GitHub, the HTML representation is unable to render, please try loading this page with nbviewer.org.</b></div><div class=\"sk-container\" hidden><div class=\"sk-item\"><div class=\"sk-estimator sk-toggleable\"><input class=\"sk-toggleable__control sk-hidden--visually\" id=\"sk-estimator-id-2\" type=\"checkbox\" checked><label for=\"sk-estimator-id-2\" class=\"sk-toggleable__label sk-toggleable__label-arrow\">RandomForestClassifier</label><div class=\"sk-toggleable__content\"><pre>RandomForestClassifier(n_estimators=1000)</pre></div></div></div></div></div>"
      ],
      "text/plain": [
       "RandomForestClassifier(n_estimators=1000)"
      ]
     },
     "execution_count": 55,
     "metadata": {},
     "output_type": "execute_result"
    }
   ],
   "source": [
    "#fitting the data into the model\n",
    "np.random.seed(42)\n",
    "from sklearn.ensemble import RandomForestClassifier\n",
    "\n",
    "clf = RandomForestClassifier(n_estimators=1000)\n",
    "#fitting the hot encoded data\n",
    "clf.fit(transformed_X_train,transformed_y)"
   ]
  },
  {
   "cell_type": "code",
   "execution_count": 56,
   "id": "f976e200-962d-471c-af91-b1a4d4ccf4e3",
   "metadata": {},
   "outputs": [
    {
     "data": {
      "text/plain": [
       "0.9608641756684966"
      ]
     },
     "execution_count": 56,
     "metadata": {},
     "output_type": "execute_result"
    }
   ],
   "source": [
    "clf.score(transformed_X_train,transformed_y)"
   ]
  },
  {
   "cell_type": "code",
   "execution_count": 7,
   "id": "63bc3520-a072-4a30-baa0-2579131567be",
   "metadata": {},
   "outputs": [],
   "source": [
    "fd = pd.read_csv(\"testting-set.csv\")"
   ]
  },
  {
   "cell_type": "code",
   "execution_count": 8,
   "id": "7e167104-15a2-4b08-84d8-b7481a140af4",
   "metadata": {},
   "outputs": [
    {
     "data": {
      "text/html": [
       "<div>\n",
       "<style scoped>\n",
       "    .dataframe tbody tr th:only-of-type {\n",
       "        vertical-align: middle;\n",
       "    }\n",
       "\n",
       "    .dataframe tbody tr th {\n",
       "        vertical-align: top;\n",
       "    }\n",
       "\n",
       "    .dataframe thead th {\n",
       "        text-align: right;\n",
       "    }\n",
       "</style>\n",
       "<table border=\"1\" class=\"dataframe\">\n",
       "  <thead>\n",
       "    <tr style=\"text-align: right;\">\n",
       "      <th></th>\n",
       "      <th>Sex</th>\n",
       "      <th>Bachelor</th>\n",
       "      <th>Age</th>\n",
       "      <th>Graduated</th>\n",
       "      <th>Career</th>\n",
       "      <th>Work Experience</th>\n",
       "      <th>Family Expenses</th>\n",
       "      <th>Family  Size</th>\n",
       "      <th>Variable</th>\n",
       "      <th>Description</th>\n",
       "    </tr>\n",
       "  </thead>\n",
       "  <tbody>\n",
       "    <tr>\n",
       "      <th>0</th>\n",
       "      <td>Female</td>\n",
       "      <td>Yes</td>\n",
       "      <td>42.0</td>\n",
       "      <td>No</td>\n",
       "      <td>Scientist</td>\n",
       "      <td>4.0</td>\n",
       "      <td>Low</td>\n",
       "      <td>1.0</td>\n",
       "      <td>Dog_6</td>\n",
       "      <td>The specimen is reliable and experienced.</td>\n",
       "    </tr>\n",
       "    <tr>\n",
       "      <th>1</th>\n",
       "      <td>Female</td>\n",
       "      <td>No</td>\n",
       "      <td>41.0</td>\n",
       "      <td>Yes</td>\n",
       "      <td>Fashion Designer</td>\n",
       "      <td>0.0</td>\n",
       "      <td>Low</td>\n",
       "      <td>1.0</td>\n",
       "      <td>Dog_6</td>\n",
       "      <td>The specimen is reliable and experienced.</td>\n",
       "    </tr>\n",
       "    <tr>\n",
       "      <th>2</th>\n",
       "      <td>Female</td>\n",
       "      <td>No</td>\n",
       "      <td>18.0</td>\n",
       "      <td>No</td>\n",
       "      <td>Doctor</td>\n",
       "      <td>2.0</td>\n",
       "      <td>Low</td>\n",
       "      <td>5.0</td>\n",
       "      <td>Dog_6</td>\n",
       "      <td>The specimen is rather joyful than responsible.</td>\n",
       "    </tr>\n",
       "    <tr>\n",
       "      <th>3</th>\n",
       "      <td>Male</td>\n",
       "      <td>No</td>\n",
       "      <td>30.0</td>\n",
       "      <td>Yes</td>\n",
       "      <td>Doctor</td>\n",
       "      <td>1.0</td>\n",
       "      <td>Low</td>\n",
       "      <td>4.0</td>\n",
       "      <td>Dog_6</td>\n",
       "      <td>The specimen is reliable and experienced.</td>\n",
       "    </tr>\n",
       "    <tr>\n",
       "      <th>4</th>\n",
       "      <td>Male</td>\n",
       "      <td>Yes</td>\n",
       "      <td>81.0</td>\n",
       "      <td>Yes</td>\n",
       "      <td>Lawyer</td>\n",
       "      <td>1.0</td>\n",
       "      <td>Low</td>\n",
       "      <td>1.0</td>\n",
       "      <td>Dog_6</td>\n",
       "      <td>The specimen is reliable and experienced.</td>\n",
       "    </tr>\n",
       "    <tr>\n",
       "      <th>...</th>\n",
       "      <td>...</td>\n",
       "      <td>...</td>\n",
       "      <td>...</td>\n",
       "      <td>...</td>\n",
       "      <td>...</td>\n",
       "      <td>...</td>\n",
       "      <td>...</td>\n",
       "      <td>...</td>\n",
       "      <td>...</td>\n",
       "      <td>...</td>\n",
       "    </tr>\n",
       "    <tr>\n",
       "      <th>2416</th>\n",
       "      <td>Male</td>\n",
       "      <td>No</td>\n",
       "      <td>42.0</td>\n",
       "      <td>Yes</td>\n",
       "      <td>Singer</td>\n",
       "      <td>2.0</td>\n",
       "      <td>Low</td>\n",
       "      <td>1.0</td>\n",
       "      <td>Dog_3</td>\n",
       "      <td>The specimen is reliable and experienced.</td>\n",
       "    </tr>\n",
       "    <tr>\n",
       "      <th>2417</th>\n",
       "      <td>Male</td>\n",
       "      <td>Yes</td>\n",
       "      <td>89.0</td>\n",
       "      <td>No</td>\n",
       "      <td>Lawyer</td>\n",
       "      <td>NaN</td>\n",
       "      <td>Low</td>\n",
       "      <td>2.0</td>\n",
       "      <td>Dog_6</td>\n",
       "      <td>The specimen is reliable and experienced.</td>\n",
       "    </tr>\n",
       "    <tr>\n",
       "      <th>2418</th>\n",
       "      <td>Male</td>\n",
       "      <td>No</td>\n",
       "      <td>47.0</td>\n",
       "      <td>Yes</td>\n",
       "      <td>Singer</td>\n",
       "      <td>4.0</td>\n",
       "      <td>Low</td>\n",
       "      <td>1.0</td>\n",
       "      <td>Dog_6</td>\n",
       "      <td>The specimen is reliable and experienced.</td>\n",
       "    </tr>\n",
       "    <tr>\n",
       "      <th>2419</th>\n",
       "      <td>Female</td>\n",
       "      <td>Yes</td>\n",
       "      <td>79.0</td>\n",
       "      <td>Yes</td>\n",
       "      <td>Lawyer</td>\n",
       "      <td>0.0</td>\n",
       "      <td>High</td>\n",
       "      <td>2.0</td>\n",
       "      <td>Dog_6</td>\n",
       "      <td>The specimen is reliable and experienced.</td>\n",
       "    </tr>\n",
       "    <tr>\n",
       "      <th>2420</th>\n",
       "      <td>Female</td>\n",
       "      <td>Yes</td>\n",
       "      <td>84.0</td>\n",
       "      <td>Yes</td>\n",
       "      <td>Lawyer</td>\n",
       "      <td>0.0</td>\n",
       "      <td>Low</td>\n",
       "      <td>1.0</td>\n",
       "      <td>Dog_6</td>\n",
       "      <td>The specimen is reliable and experienced.</td>\n",
       "    </tr>\n",
       "  </tbody>\n",
       "</table>\n",
       "<p>2421 rows × 10 columns</p>\n",
       "</div>"
      ],
      "text/plain": [
       "         Sex Bachelor   Age Graduated            Career  Work Experience  \\\n",
       "0     Female      Yes  42.0        No         Scientist              4.0   \n",
       "1     Female       No  41.0       Yes  Fashion Designer              0.0   \n",
       "2     Female       No  18.0        No            Doctor              2.0   \n",
       "3       Male       No  30.0       Yes            Doctor              1.0   \n",
       "4       Male      Yes  81.0       Yes            Lawyer              1.0   \n",
       "...      ...      ...   ...       ...               ...              ...   \n",
       "2416    Male       No  42.0       Yes            Singer              2.0   \n",
       "2417    Male      Yes  89.0        No            Lawyer              NaN   \n",
       "2418    Male       No  47.0       Yes            Singer              4.0   \n",
       "2419  Female      Yes  79.0       Yes            Lawyer              0.0   \n",
       "2420  Female      Yes  84.0       Yes            Lawyer              0.0   \n",
       "\n",
       "     Family Expenses  Family  Size Variable  \\\n",
       "0                Low           1.0    Dog_6   \n",
       "1                Low           1.0    Dog_6   \n",
       "2                Low           5.0    Dog_6   \n",
       "3                Low           4.0    Dog_6   \n",
       "4                Low           1.0    Dog_6   \n",
       "...              ...           ...      ...   \n",
       "2416             Low           1.0    Dog_3   \n",
       "2417             Low           2.0    Dog_6   \n",
       "2418             Low           1.0    Dog_6   \n",
       "2419            High           2.0    Dog_6   \n",
       "2420             Low           1.0    Dog_6   \n",
       "\n",
       "                                          Description  \n",
       "0           The specimen is reliable and experienced.  \n",
       "1           The specimen is reliable and experienced.  \n",
       "2     The specimen is rather joyful than responsible.  \n",
       "3           The specimen is reliable and experienced.  \n",
       "4           The specimen is reliable and experienced.  \n",
       "...                                               ...  \n",
       "2416        The specimen is reliable and experienced.  \n",
       "2417        The specimen is reliable and experienced.  \n",
       "2418        The specimen is reliable and experienced.  \n",
       "2419        The specimen is reliable and experienced.  \n",
       "2420        The specimen is reliable and experienced.  \n",
       "\n",
       "[2421 rows x 10 columns]"
      ]
     },
     "execution_count": 8,
     "metadata": {},
     "output_type": "execute_result"
    }
   ],
   "source": [
    "fd.drop(\"ID\",axis = 1)"
   ]
  },
  {
   "cell_type": "code",
   "execution_count": 9,
   "id": "d2ac678e-59d7-4304-9234-a7a60cf7a649",
   "metadata": {},
   "outputs": [
    {
     "data": {
      "text/plain": [
       "array([['Male', 'No', 'Yes', ..., 'Dog_6', 41.0, 2.0],\n",
       "       ['Female', 'Yes', 'Yes', ..., 'Dog_6', 38.0, 0.0],\n",
       "       ['Male', 'Yes', 'Yes', ..., 'Dog_6', 41.0, 0.0],\n",
       "       ...,\n",
       "       ['Male', 'Yes', 'Yes', ..., 'Dog_6', 42.0, 9.0],\n",
       "       ['Female', 'Yes', 'Yes', ..., 'Dog_6', 27.0, 2.646629877808435],\n",
       "       ['Female', 'Yes', 'Yes', ..., 'Dog_6', 56.0, 0.0]], dtype=object)"
      ]
     },
     "execution_count": 9,
     "metadata": {},
     "output_type": "execute_result"
    }
   ],
   "source": [
    "#Filling the missing values using the scikit learn\n",
    "from sklearn.impute import SimpleImputer\n",
    "from sklearn.compose import ColumnTransformer\n",
    "\n",
    "#filling the categorical values with missing and numerical values with mean\n",
    "cat_imputer =SimpleImputer(strategy=\"constant\",fill_value=\"missing\")\n",
    "#door_imputer = SimpleImputer(strategy=\"constant\",fill_value=4)\n",
    "num_imputer = SimpleImputer(strategy=\"mean\")\n",
    "\n",
    "#defining columns\n",
    "cat_features = [\"Sex\",\"Bachelor\",\"Graduated\",\"Career\",\"Family Expenses\",\"Family  Size\",\"Variable\"]\n",
    "\n",
    "num_features=[\"Age\",\"Work Experience\"]\n",
    "\n",
    "#Creating an imputer (something that fills the data)\n",
    "imputer = ColumnTransformer([\n",
    "    (\"cat_imputer\" ,cat_imputer,cat_features),\n",
    "    \n",
    "    (\"num_imputer\",num_imputer,num_features)  ])\n",
    "\n",
    "#Fill train and test data separately\n",
    "filled_X = imputer.fit_transform(x)\n",
    "#filled_X_test = imputer.transform(x_test)\n",
    "\n",
    "#check filled x_train\n",
    "filled_X\n"
   ]
  },
  {
   "cell_type": "code",
   "execution_count": 10,
   "id": "abb2c70b-b5d0-48be-b491-76dad652c327",
   "metadata": {},
   "outputs": [
    {
     "data": {
      "text/plain": [
       "Sex                0\n",
       "Bachelor           0\n",
       "Graduated          0\n",
       "Career             0\n",
       "Family Expenses    0\n",
       "Family  Size       0\n",
       "Variable           0\n",
       "Age                0\n",
       "Work Experience    0\n",
       "dtype: int64"
      ]
     },
     "execution_count": 10,
     "metadata": {},
     "output_type": "execute_result"
    }
   ],
   "source": [
    "fd_filled_test = pd.DataFrame(filled_X,\n",
    "                                      columns=[\"Sex\",\"Bachelor\",\"Graduated\",\"Career\",\"Family Expenses\",\"Family  Size\",\"Variable\",\"Age\",\"Work Experience\"])\n",
    "\n",
    "#df_filled_test = pd.DataFrame(filled_X_test,\n",
    "                                     #columns=[\"Sex\",\"Bachelor\",\"Graduated\",\"Career\",\"Family Expenses\",\"Family  Size\",\"Variable\",\"Age\",\"Work Experience\"])\n",
    "fd_filled_test.isna().sum()"
   ]
  },
  {
   "cell_type": "code",
   "execution_count": 11,
   "id": "13d5c197-3eff-4fbb-b6c1-43e00d56692c",
   "metadata": {},
   "outputs": [
    {
     "data": {
      "text/plain": [
       "array([[ 0.        ,  1.        ,  0.        , ...,  0.        ,\n",
       "        41.        ,  2.        ],\n",
       "       [ 1.        ,  0.        ,  0.        , ...,  0.        ,\n",
       "        38.        ,  0.        ],\n",
       "       [ 0.        ,  1.        ,  0.        , ...,  0.        ,\n",
       "        41.        ,  0.        ],\n",
       "       ...,\n",
       "       [ 0.        ,  1.        ,  0.        , ...,  0.        ,\n",
       "        42.        ,  9.        ],\n",
       "       [ 1.        ,  0.        ,  0.        , ...,  0.        ,\n",
       "        27.        ,  2.64662988],\n",
       "       [ 1.        ,  0.        ,  0.        , ...,  0.        ,\n",
       "        56.        ,  0.        ]])"
      ]
     },
     "execution_count": 11,
     "metadata": {},
     "output_type": "execute_result"
    }
   ],
   "source": [
    "from sklearn.preprocessing import OneHotEncoder\n",
    "categorical_features=[\"Sex\",\"Bachelor\",\"Graduated\",\"Career\",\"Family Expenses\",\"Family  Size\",\"Variable\"]\n",
    "one_hot = OneHotEncoder()\n",
    "transformer = ColumnTransformer([(\"one_hot\",\n",
    "                                  one_hot,\n",
    "                                  categorical_features)],\n",
    "                                remainder=\"passthrough\")\n",
    "\n",
    "#fill train and test values separately\n",
    "transformed_X_test= transformer.fit_transform(fd_filled_test)\n",
    "#transformed_X_test = transformer.transform(df_filled_test)\n",
    "\n",
    "#checkig transformed and filled values\n",
    "transformed_X_test.toarray()"
   ]
  },
  {
   "cell_type": "code",
   "execution_count": 58,
   "id": "6c07e1d9-bd8d-4490-8709-8d410450b1e0",
   "metadata": {},
   "outputs": [],
   "source": [
    "sd = pd.DataFrame(pds,columns=[\"Akshat\",\" Bhavesh\", \"Chaitanya\", \" Darsh\"],\n",
    "                 )\n",
    "# csv_filename=\"resilts.csv\"\n",
    "# sd.to_csv(csv_filename,index=False)\n",
    "# print(csv_filename)"
   ]
  },
  {
   "cell_type": "code",
   "execution_count": 75,
   "id": "c5d81d7e-ae74-41e6-b1b0-811c2fb12646",
   "metadata": {},
   "outputs": [],
   "source": [
    "# Transform rows to keep only column names where the value is 1\n",
    "sd_customized = sd.apply(lambda row: [col for col, val in row.items() if val == 1], axis=1)\n",
    "\n",
    "# Combine the result into a single row\n",
    "result = pd.DataFrame({'Customized Row': [\", \".join(row) for row in sd_customized if row]})"
   ]
  },
  {
   "cell_type": "code",
   "execution_count": 79,
   "id": "dc6350c6-41fa-47ba-8126-86fed6a2c837",
   "metadata": {},
   "outputs": [],
   "source": [
    "result['ID']=fd['ID']"
   ]
  },
  {
   "cell_type": "code",
   "execution_count": 80,
   "id": "9310b360-ac2f-41ff-a706-f75e647d7da1",
   "metadata": {},
   "outputs": [
    {
     "name": "stdout",
     "output_type": "stream",
     "text": [
      "submit00.csv\n"
     ]
    }
   ],
   "source": [
    "csv_filename=\"submit00.csv\"\n",
    "result.to_csv(csv_filename,index=False)\n",
    "print(csv_filename)"
   ]
  },
  {
   "cell_type": "code",
   "execution_count": 81,
   "id": "61468a41-fe93-4bda-9c6a-e970aded2248",
   "metadata": {},
   "outputs": [
    {
     "data": {
      "text/html": [
       "<div>\n",
       "<style scoped>\n",
       "    .dataframe tbody tr th:only-of-type {\n",
       "        vertical-align: middle;\n",
       "    }\n",
       "\n",
       "    .dataframe tbody tr th {\n",
       "        vertical-align: top;\n",
       "    }\n",
       "\n",
       "    .dataframe thead th {\n",
       "        text-align: right;\n",
       "    }\n",
       "</style>\n",
       "<table border=\"1\" class=\"dataframe\">\n",
       "  <thead>\n",
       "    <tr style=\"text-align: right;\">\n",
       "      <th></th>\n",
       "      <th>Customized Row</th>\n",
       "      <th>ID</th>\n",
       "    </tr>\n",
       "  </thead>\n",
       "  <tbody>\n",
       "    <tr>\n",
       "      <th>0</th>\n",
       "      <td>Akshat</td>\n",
       "      <td>1.462225e+09</td>\n",
       "    </tr>\n",
       "    <tr>\n",
       "      <th>1</th>\n",
       "      <td>Akshat</td>\n",
       "      <td>1.462220e+09</td>\n",
       "    </tr>\n",
       "    <tr>\n",
       "      <th>2</th>\n",
       "      <td>Bhavesh</td>\n",
       "      <td>1.462226e+09</td>\n",
       "    </tr>\n",
       "    <tr>\n",
       "      <th>3</th>\n",
       "      <td>Darsh</td>\n",
       "      <td>1.462224e+09</td>\n",
       "    </tr>\n",
       "    <tr>\n",
       "      <th>4</th>\n",
       "      <td>Bhavesh</td>\n",
       "      <td>1.462223e+09</td>\n",
       "    </tr>\n",
       "  </tbody>\n",
       "</table>\n",
       "</div>"
      ],
      "text/plain": [
       "  Customized Row            ID\n",
       "0         Akshat  1.462225e+09\n",
       "1         Akshat  1.462220e+09\n",
       "2        Bhavesh  1.462226e+09\n",
       "3          Darsh  1.462224e+09\n",
       "4        Bhavesh  1.462223e+09"
      ]
     },
     "execution_count": 81,
     "metadata": {},
     "output_type": "execute_result"
    }
   ],
   "source": [
    "result.head()"
   ]
  },
  {
   "cell_type": "code",
   "execution_count": 62,
   "id": "9f0aa0a1-789f-484d-8f0f-774f2ec616fa",
   "metadata": {},
   "outputs": [
    {
     "data": {
      "text/plain": [
       "2"
      ]
     },
     "execution_count": 62,
     "metadata": {},
     "output_type": "execute_result"
    }
   ],
   "source": [
    "sd.ndim"
   ]
  },
  {
   "cell_type": "code",
   "execution_count": 12,
   "id": "59ab3f9d-b9d2-431d-92e0-37f38b580838",
   "metadata": {},
   "outputs": [],
   "source": [
    "from sklearn.neighbors import KNeighborsClassifier\n",
    "\n",
    "knn = KNeighborsClassifier(n_neighbors=3)\n",
    "knn.fit(transformed_X_train,transformed_y)\n",
    "y_pred_knn = knn.predict(transformed_X_test)"
   ]
  },
  {
   "cell_type": "code",
   "execution_count": 15,
   "id": "8641021e-0439-467b-bde4-dd60a7bed97f",
   "metadata": {},
   "outputs": [],
   "source": [
    "kn = pd.DataFrame(y_pred_knn,columns=[\"Akshat\",\" Bhavesh\", \"Chaitanya\", \" Darsh\"],\n",
    "                 )"
   ]
  },
  {
   "cell_type": "code",
   "execution_count": 38,
   "id": "e33f92ae-48fe-459c-ab07-f89ceed33109",
   "metadata": {},
   "outputs": [],
   "source": [
    "# Transform rows to keep only column names where the value is 1\n",
    "kn_customized = kn.apply(lambda row: [col for col, val in row.items() if val == 1], axis=1)\n",
    "\n",
    "# Combine the result into a single row\n",
    "result_knn = pd.DataFrame({'Customized Row': [\", \".join(row) for row in kn_customized if row]})"
   ]
  },
  {
   "cell_type": "code",
   "execution_count": 39,
   "id": "55877220-2ef1-406c-b16d-5a2e5ad834bf",
   "metadata": {},
   "outputs": [],
   "source": [
    "result_knn['ID']=fd['ID']"
   ]
  },
  {
   "cell_type": "code",
   "execution_count": 40,
   "id": "9756e664-52a4-4f6b-a9c2-10cffaace0c9",
   "metadata": {},
   "outputs": [
    {
     "data": {
      "text/plain": [
       "<bound method NDFrame.tail of      Customized Row            ID\n",
       "0            Akshat  1.462225e+09\n",
       "1           Bhavesh  1.462220e+09\n",
       "2             Darsh  1.462226e+09\n",
       "3           Bhavesh  1.462224e+09\n",
       "4            Akshat  1.462223e+09\n",
       "...             ...           ...\n",
       "4499         Akshat           NaN\n",
       "4500        Bhavesh           NaN\n",
       "4501         Akshat           NaN\n",
       "4502          Darsh           NaN\n",
       "4503        Bhavesh           NaN\n",
       "\n",
       "[4504 rows x 2 columns]>"
      ]
     },
     "execution_count": 40,
     "metadata": {},
     "output_type": "execute_result"
    }
   ],
   "source": [
    "result_knn.tail"
   ]
  },
  {
   "cell_type": "code",
   "execution_count": 41,
   "id": "5cc7aa7a-8775-4b23-a3e2-7956e3d329fd",
   "metadata": {},
   "outputs": [],
   "source": [
    "result_knn['ID'] = result_knn['ID'].replace('', np.nan)"
   ]
  },
  {
   "cell_type": "code",
   "execution_count": 46,
   "id": "ae8a956c-8606-4e9e-a968-dc79d56fe783",
   "metadata": {},
   "outputs": [
    {
     "ename": "AttributeError",
     "evalue": "'NoneType' object has no attribute 'dropna'",
     "output_type": "error",
     "traceback": [
      "\u001b[1;31m---------------------------------------------------------------------------\u001b[0m",
      "\u001b[1;31mAttributeError\u001b[0m                            Traceback (most recent call last)",
      "Cell \u001b[1;32mIn[46], line 2\u001b[0m\n\u001b[0;32m      1\u001b[0m \u001b[38;5;66;03m# Drop rows where either 'id' or 'customise' has NaN\u001b[39;00m\n\u001b[1;32m----> 2\u001b[0m result_knn \u001b[38;5;241m=\u001b[39m \u001b[43mresult_knn\u001b[49m\u001b[38;5;241;43m.\u001b[39;49m\u001b[43mdropna\u001b[49m(subset\u001b[38;5;241m=\u001b[39m[\u001b[38;5;124m'\u001b[39m\u001b[38;5;124mID\u001b[39m\u001b[38;5;124m'\u001b[39m, \u001b[38;5;124m'\u001b[39m\u001b[38;5;124mCustomized Row\u001b[39m\u001b[38;5;124m'\u001b[39m])\n",
      "\u001b[1;31mAttributeError\u001b[0m: 'NoneType' object has no attribute 'dropna'"
     ]
    }
   ],
   "source": [
    "# Drop rows where either 'id' or 'customise' has NaN\n",
    "result_knn = result_knn.dropna(subset=['ID', 'Customized Row'])\n"
   ]
  },
  {
   "cell_type": "code",
   "execution_count": 45,
   "id": "1175143b-75f0-4d88-b467-0441864c9a14",
   "metadata": {},
   "outputs": [
    {
     "ename": "AttributeError",
     "evalue": "'NoneType' object has no attribute 'dtypes'",
     "output_type": "error",
     "traceback": [
      "\u001b[1;31m---------------------------------------------------------------------------\u001b[0m",
      "\u001b[1;31mAttributeError\u001b[0m                            Traceback (most recent call last)",
      "Cell \u001b[1;32mIn[45], line 1\u001b[0m\n\u001b[1;32m----> 1\u001b[0m \u001b[43mresult_knn\u001b[49m\u001b[38;5;241;43m.\u001b[39;49m\u001b[43mdtypes\u001b[49m\n",
      "\u001b[1;31mAttributeError\u001b[0m: 'NoneType' object has no attribute 'dtypes'"
     ]
    }
   ],
   "source": [
    "result_knn.dtypes"
   ]
  },
  {
   "cell_type": "code",
   "execution_count": 35,
   "id": "56070540-4861-488b-9a3d-ef28449d3f05",
   "metadata": {},
   "outputs": [
    {
     "ename": "AttributeError",
     "evalue": "'NoneType' object has no attribute 'to_csv'",
     "output_type": "error",
     "traceback": [
      "\u001b[1;31m---------------------------------------------------------------------------\u001b[0m",
      "\u001b[1;31mAttributeError\u001b[0m                            Traceback (most recent call last)",
      "Cell \u001b[1;32mIn[35], line 2\u001b[0m\n\u001b[0;32m      1\u001b[0m csv_filename\u001b[38;5;241m=\u001b[39m\u001b[38;5;124m\"\u001b[39m\u001b[38;5;124msubmit_knn_dropped.csv\u001b[39m\u001b[38;5;124m\"\u001b[39m\n\u001b[1;32m----> 2\u001b[0m \u001b[43mresult_knn\u001b[49m\u001b[38;5;241;43m.\u001b[39;49m\u001b[43mto_csv\u001b[49m(csv_filename,index\u001b[38;5;241m=\u001b[39m\u001b[38;5;28;01mFalse\u001b[39;00m)\n\u001b[0;32m      3\u001b[0m \u001b[38;5;28mprint\u001b[39m(csv_filename)\n",
      "\u001b[1;31mAttributeError\u001b[0m: 'NoneType' object has no attribute 'to_csv'"
     ]
    }
   ],
   "source": [
    "csv_filename=\"submit_knn_dropped.csv\"\n",
    "result_knn.to_csv(csv_filename,index=False)\n",
    "print(csv_filename)"
   ]
  },
  {
   "cell_type": "code",
   "execution_count": 27,
   "id": "8d289ece-c3ce-4678-aae6-83bdaa8db4a3",
   "metadata": {},
   "outputs": [
    {
     "data": {
      "text/html": [
       "<div>\n",
       "<style scoped>\n",
       "    .dataframe tbody tr th:only-of-type {\n",
       "        vertical-align: middle;\n",
       "    }\n",
       "\n",
       "    .dataframe tbody tr th {\n",
       "        vertical-align: top;\n",
       "    }\n",
       "\n",
       "    .dataframe thead th {\n",
       "        text-align: right;\n",
       "    }\n",
       "</style>\n",
       "<table border=\"1\" class=\"dataframe\">\n",
       "  <thead>\n",
       "    <tr style=\"text-align: right;\">\n",
       "      <th></th>\n",
       "      <th>Customized Row</th>\n",
       "      <th>ID</th>\n",
       "    </tr>\n",
       "  </thead>\n",
       "  <tbody>\n",
       "    <tr>\n",
       "      <th>0</th>\n",
       "      <td>Akshat</td>\n",
       "      <td>1.462225e+09</td>\n",
       "    </tr>\n",
       "    <tr>\n",
       "      <th>1</th>\n",
       "      <td>Bhavesh</td>\n",
       "      <td>1.462220e+09</td>\n",
       "    </tr>\n",
       "    <tr>\n",
       "      <th>2</th>\n",
       "      <td>Darsh</td>\n",
       "      <td>1.462226e+09</td>\n",
       "    </tr>\n",
       "    <tr>\n",
       "      <th>3</th>\n",
       "      <td>Bhavesh</td>\n",
       "      <td>1.462224e+09</td>\n",
       "    </tr>\n",
       "    <tr>\n",
       "      <th>4</th>\n",
       "      <td>Akshat</td>\n",
       "      <td>1.462223e+09</td>\n",
       "    </tr>\n",
       "  </tbody>\n",
       "</table>\n",
       "</div>"
      ],
      "text/plain": [
       "  Customized Row            ID\n",
       "0         Akshat  1.462225e+09\n",
       "1        Bhavesh  1.462220e+09\n",
       "2          Darsh  1.462226e+09\n",
       "3        Bhavesh  1.462224e+09\n",
       "4         Akshat  1.462223e+09"
      ]
     },
     "execution_count": 27,
     "metadata": {},
     "output_type": "execute_result"
    }
   ],
   "source": [
    "result_knn.head()"
   ]
  },
  {
   "cell_type": "code",
   "execution_count": null,
   "id": "bb4fa1e9-1a61-40d2-bf77-0351d45a32f5",
   "metadata": {},
   "outputs": [],
   "source": []
  }
 ],
 "metadata": {
  "kernelspec": {
   "display_name": "Python 3 (ipykernel)",
   "language": "python",
   "name": "python3"
  },
  "language_info": {
   "codemirror_mode": {
    "name": "ipython",
    "version": 3
   },
   "file_extension": ".py",
   "mimetype": "text/x-python",
   "name": "python",
   "nbconvert_exporter": "python",
   "pygments_lexer": "ipython3",
   "version": "3.8.19"
  }
 },
 "nbformat": 4,
 "nbformat_minor": 5
}
